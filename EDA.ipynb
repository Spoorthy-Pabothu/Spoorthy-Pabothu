{
  "cells": [
    {
      "cell_type": "markdown",
      "metadata": {
        "id": "view-in-github",
        "colab_type": "text"
      },
      "source": [
        "<a href=\"https://colab.research.google.com/github/Spoorthy-Pabothu/Spoorthy-Pabothu/blob/main/EDA.ipynb\" target=\"_parent\"><img src=\"https://colab.research.google.com/assets/colab-badge.svg\" alt=\"Open In Colab\"/></a>"
      ]
    },
    {
      "cell_type": "code",
      "execution_count": 1,
      "metadata": {
        "id": "1Wc7hs7XzDD0"
      },
      "outputs": [],
      "source": [
        "####Importing Libraries\n",
        "import numpy as np\n",
        "import matplotlib.pyplot as plt\n",
        "import pandas as pd\n",
        "import seaborn as sns\n",
        "from termcolor import colored\n",
        "import sys"
      ]
    },
    {
      "cell_type": "markdown",
      "metadata": {
        "id": "07g4BWfDqpCJ"
      },
      "source": [
        "Importing Data"
      ]
    },
    {
      "cell_type": "code",
      "execution_count": 2,
      "metadata": {
        "id": "2ssod5mFxbI1"
      },
      "outputs": [],
      "source": [
        "#prev_application = pd.read_csv(r'C:\\Users\\Spoorthy\\Desktop\\ML UDEMY\\ML PROJECT\\Risk Analytics In Banking & Financial Services\\previous_application.csv')\n",
        "#application_data = pd.read_csv(r'https://drive.google.com/file/d/1yEaYqdedE0_ZVYA8w5OjNLs6EWd1Cb27/view?usp=sharing')\n",
        "#col_desp=pd.read.csv(r\"C:\\Users\\Spoorthy\\Desktop\\ML UDEMY\\ML PROJECT\\Risk Analytics In Banking & Financial Services\\columns_description.csv\",skiprows=1)\n",
        "#from google.colab import files\n",
        "#uploaded = files.upload()\n",
        "#application_data = pd.read_csv('/content/application_data.csv')\n",
        "\n"
      ]
    },
    {
      "cell_type": "code",
      "execution_count": 3,
      "metadata": {
        "id": "iAKtdgEVL_XV"
      },
      "outputs": [],
      "source": [
        "#from google.colab import drive\n",
        "#drive.mount('/content/drive')"
      ]
    },
    {
      "cell_type": "markdown",
      "metadata": {
        "id": "IK3PgwVbLYQr"
      },
      "source": [
        "# New Section"
      ]
    },
    {
      "cell_type": "markdown",
      "metadata": {
        "id": "ta9i9TUs-76s"
      },
      "source": [
        "Data Dimensions"
      ]
    },
    {
      "cell_type": "code",
      "execution_count": 10,
      "metadata": {
        "colab": {
          "base_uri": "https://localhost:8080/",
          "height": 293
        },
        "id": "F8ej_mPz9zY5",
        "outputId": "c3ee2ef7-577a-4440-95c0-c1c4653713f9"
      },
      "outputs": [
        {
          "output_type": "error",
          "ename": "ParserError",
          "evalue": "ignored",
          "traceback": [
            "\u001b[0;31m---------------------------------------------------------------------------\u001b[0m",
            "\u001b[0;31mParserError\u001b[0m                               Traceback (most recent call last)",
            "\u001b[0;32m<ipython-input-10-987cc70b3547>\u001b[0m in \u001b[0;36m<module>\u001b[0;34m()\u001b[0m\n\u001b[1;32m      1\u001b[0m \u001b[0mapplication_data\u001b[0m \u001b[0;34m=\u001b[0m \u001b[0mpd\u001b[0m\u001b[0;34m.\u001b[0m\u001b[0mread_csv\u001b[0m\u001b[0;34m(\u001b[0m\u001b[0;34m'/content/application_data.csv'\u001b[0m\u001b[0;34m,\u001b[0m\u001b[0mlineterminator\u001b[0m\u001b[0;34m=\u001b[0m\u001b[0;34m'\\n'\u001b[0m\u001b[0;34m,\u001b[0m\u001b[0mnrows\u001b[0m\u001b[0;34m=\u001b[0m\u001b[0;36m307511\u001b[0m\u001b[0;34m)\u001b[0m\u001b[0;34m\u001b[0m\u001b[0;34m\u001b[0m\u001b[0m\n\u001b[1;32m      2\u001b[0m \u001b[0;31m#print(application_data.iloc[1:10,2:5].values)\u001b[0m\u001b[0;34m\u001b[0m\u001b[0;34m\u001b[0m\u001b[0;34m\u001b[0m\u001b[0m\n\u001b[0;32m----> 3\u001b[0;31m \u001b[0mprev_application\u001b[0m\u001b[0;34m=\u001b[0m \u001b[0mpd\u001b[0m\u001b[0;34m.\u001b[0m\u001b[0mread_csv\u001b[0m\u001b[0;34m(\u001b[0m\u001b[0;34mr'/content/previous_application.csv'\u001b[0m\u001b[0;34m)\u001b[0m\u001b[0;34m\u001b[0m\u001b[0;34m\u001b[0m\u001b[0m\n\u001b[0m\u001b[1;32m      4\u001b[0m \u001b[0;31m#print(prev_application.iloc[1:10,:])nrows=197019\u001b[0m\u001b[0;34m\u001b[0m\u001b[0;34m\u001b[0m\u001b[0;34m\u001b[0m\u001b[0m\n\u001b[1;32m      5\u001b[0m \u001b[0mcol_desp\u001b[0m\u001b[0;34m=\u001b[0m\u001b[0mpd\u001b[0m\u001b[0;34m.\u001b[0m\u001b[0mread_csv\u001b[0m\u001b[0;34m(\u001b[0m\u001b[0;34mr'/content/columns_description.csv'\u001b[0m\u001b[0;34m)\u001b[0m\u001b[0;34m\u001b[0m\u001b[0;34m\u001b[0m\u001b[0m\n",
            "\u001b[0;32m/usr/local/lib/python3.7/dist-packages/pandas/util/_decorators.py\u001b[0m in \u001b[0;36mwrapper\u001b[0;34m(*args, **kwargs)\u001b[0m\n\u001b[1;32m    309\u001b[0m                     \u001b[0mstacklevel\u001b[0m\u001b[0;34m=\u001b[0m\u001b[0mstacklevel\u001b[0m\u001b[0;34m,\u001b[0m\u001b[0;34m\u001b[0m\u001b[0;34m\u001b[0m\u001b[0m\n\u001b[1;32m    310\u001b[0m                 )\n\u001b[0;32m--> 311\u001b[0;31m             \u001b[0;32mreturn\u001b[0m \u001b[0mfunc\u001b[0m\u001b[0;34m(\u001b[0m\u001b[0;34m*\u001b[0m\u001b[0margs\u001b[0m\u001b[0;34m,\u001b[0m \u001b[0;34m**\u001b[0m\u001b[0mkwargs\u001b[0m\u001b[0;34m)\u001b[0m\u001b[0;34m\u001b[0m\u001b[0;34m\u001b[0m\u001b[0m\n\u001b[0m\u001b[1;32m    312\u001b[0m \u001b[0;34m\u001b[0m\u001b[0m\n\u001b[1;32m    313\u001b[0m         \u001b[0;32mreturn\u001b[0m \u001b[0mwrapper\u001b[0m\u001b[0;34m\u001b[0m\u001b[0;34m\u001b[0m\u001b[0m\n",
            "\u001b[0;32m/usr/local/lib/python3.7/dist-packages/pandas/io/parsers/readers.py\u001b[0m in \u001b[0;36mread_csv\u001b[0;34m(filepath_or_buffer, sep, delimiter, header, names, index_col, usecols, squeeze, prefix, mangle_dupe_cols, dtype, engine, converters, true_values, false_values, skipinitialspace, skiprows, skipfooter, nrows, na_values, keep_default_na, na_filter, verbose, skip_blank_lines, parse_dates, infer_datetime_format, keep_date_col, date_parser, dayfirst, cache_dates, iterator, chunksize, compression, thousands, decimal, lineterminator, quotechar, quoting, doublequote, escapechar, comment, encoding, encoding_errors, dialect, error_bad_lines, warn_bad_lines, on_bad_lines, delim_whitespace, low_memory, memory_map, float_precision, storage_options)\u001b[0m\n\u001b[1;32m    584\u001b[0m     \u001b[0mkwds\u001b[0m\u001b[0;34m.\u001b[0m\u001b[0mupdate\u001b[0m\u001b[0;34m(\u001b[0m\u001b[0mkwds_defaults\u001b[0m\u001b[0;34m)\u001b[0m\u001b[0;34m\u001b[0m\u001b[0;34m\u001b[0m\u001b[0m\n\u001b[1;32m    585\u001b[0m \u001b[0;34m\u001b[0m\u001b[0m\n\u001b[0;32m--> 586\u001b[0;31m     \u001b[0;32mreturn\u001b[0m \u001b[0m_read\u001b[0m\u001b[0;34m(\u001b[0m\u001b[0mfilepath_or_buffer\u001b[0m\u001b[0;34m,\u001b[0m \u001b[0mkwds\u001b[0m\u001b[0;34m)\u001b[0m\u001b[0;34m\u001b[0m\u001b[0;34m\u001b[0m\u001b[0m\n\u001b[0m\u001b[1;32m    587\u001b[0m \u001b[0;34m\u001b[0m\u001b[0m\n\u001b[1;32m    588\u001b[0m \u001b[0;34m\u001b[0m\u001b[0m\n",
            "\u001b[0;32m/usr/local/lib/python3.7/dist-packages/pandas/io/parsers/readers.py\u001b[0m in \u001b[0;36m_read\u001b[0;34m(filepath_or_buffer, kwds)\u001b[0m\n\u001b[1;32m    486\u001b[0m \u001b[0;34m\u001b[0m\u001b[0m\n\u001b[1;32m    487\u001b[0m     \u001b[0;32mwith\u001b[0m \u001b[0mparser\u001b[0m\u001b[0;34m:\u001b[0m\u001b[0;34m\u001b[0m\u001b[0;34m\u001b[0m\u001b[0m\n\u001b[0;32m--> 488\u001b[0;31m         \u001b[0;32mreturn\u001b[0m \u001b[0mparser\u001b[0m\u001b[0;34m.\u001b[0m\u001b[0mread\u001b[0m\u001b[0;34m(\u001b[0m\u001b[0mnrows\u001b[0m\u001b[0;34m)\u001b[0m\u001b[0;34m\u001b[0m\u001b[0;34m\u001b[0m\u001b[0m\n\u001b[0m\u001b[1;32m    489\u001b[0m \u001b[0;34m\u001b[0m\u001b[0m\n\u001b[1;32m    490\u001b[0m \u001b[0;34m\u001b[0m\u001b[0m\n",
            "\u001b[0;32m/usr/local/lib/python3.7/dist-packages/pandas/io/parsers/readers.py\u001b[0m in \u001b[0;36mread\u001b[0;34m(self, nrows)\u001b[0m\n\u001b[1;32m   1045\u001b[0m     \u001b[0;32mdef\u001b[0m \u001b[0mread\u001b[0m\u001b[0;34m(\u001b[0m\u001b[0mself\u001b[0m\u001b[0;34m,\u001b[0m \u001b[0mnrows\u001b[0m\u001b[0;34m=\u001b[0m\u001b[0;32mNone\u001b[0m\u001b[0;34m)\u001b[0m\u001b[0;34m:\u001b[0m\u001b[0;34m\u001b[0m\u001b[0;34m\u001b[0m\u001b[0m\n\u001b[1;32m   1046\u001b[0m         \u001b[0mnrows\u001b[0m \u001b[0;34m=\u001b[0m \u001b[0mvalidate_integer\u001b[0m\u001b[0;34m(\u001b[0m\u001b[0;34m\"nrows\"\u001b[0m\u001b[0;34m,\u001b[0m \u001b[0mnrows\u001b[0m\u001b[0;34m)\u001b[0m\u001b[0;34m\u001b[0m\u001b[0;34m\u001b[0m\u001b[0m\n\u001b[0;32m-> 1047\u001b[0;31m         \u001b[0mindex\u001b[0m\u001b[0;34m,\u001b[0m \u001b[0mcolumns\u001b[0m\u001b[0;34m,\u001b[0m \u001b[0mcol_dict\u001b[0m \u001b[0;34m=\u001b[0m \u001b[0mself\u001b[0m\u001b[0;34m.\u001b[0m\u001b[0m_engine\u001b[0m\u001b[0;34m.\u001b[0m\u001b[0mread\u001b[0m\u001b[0;34m(\u001b[0m\u001b[0mnrows\u001b[0m\u001b[0;34m)\u001b[0m\u001b[0;34m\u001b[0m\u001b[0;34m\u001b[0m\u001b[0m\n\u001b[0m\u001b[1;32m   1048\u001b[0m \u001b[0;34m\u001b[0m\u001b[0m\n\u001b[1;32m   1049\u001b[0m         \u001b[0;32mif\u001b[0m \u001b[0mindex\u001b[0m \u001b[0;32mis\u001b[0m \u001b[0;32mNone\u001b[0m\u001b[0;34m:\u001b[0m\u001b[0;34m\u001b[0m\u001b[0;34m\u001b[0m\u001b[0m\n",
            "\u001b[0;32m/usr/local/lib/python3.7/dist-packages/pandas/io/parsers/c_parser_wrapper.py\u001b[0m in \u001b[0;36mread\u001b[0;34m(self, nrows)\u001b[0m\n\u001b[1;32m    222\u001b[0m         \u001b[0;32mtry\u001b[0m\u001b[0;34m:\u001b[0m\u001b[0;34m\u001b[0m\u001b[0;34m\u001b[0m\u001b[0m\n\u001b[1;32m    223\u001b[0m             \u001b[0;32mif\u001b[0m \u001b[0mself\u001b[0m\u001b[0;34m.\u001b[0m\u001b[0mlow_memory\u001b[0m\u001b[0;34m:\u001b[0m\u001b[0;34m\u001b[0m\u001b[0;34m\u001b[0m\u001b[0m\n\u001b[0;32m--> 224\u001b[0;31m                 \u001b[0mchunks\u001b[0m \u001b[0;34m=\u001b[0m \u001b[0mself\u001b[0m\u001b[0;34m.\u001b[0m\u001b[0m_reader\u001b[0m\u001b[0;34m.\u001b[0m\u001b[0mread_low_memory\u001b[0m\u001b[0;34m(\u001b[0m\u001b[0mnrows\u001b[0m\u001b[0;34m)\u001b[0m\u001b[0;34m\u001b[0m\u001b[0;34m\u001b[0m\u001b[0m\n\u001b[0m\u001b[1;32m    225\u001b[0m                 \u001b[0;31m# destructive to chunks\u001b[0m\u001b[0;34m\u001b[0m\u001b[0;34m\u001b[0m\u001b[0;34m\u001b[0m\u001b[0m\n\u001b[1;32m    226\u001b[0m                 \u001b[0mdata\u001b[0m \u001b[0;34m=\u001b[0m \u001b[0m_concatenate_chunks\u001b[0m\u001b[0;34m(\u001b[0m\u001b[0mchunks\u001b[0m\u001b[0;34m)\u001b[0m\u001b[0;34m\u001b[0m\u001b[0;34m\u001b[0m\u001b[0m\n",
            "\u001b[0;32m/usr/local/lib/python3.7/dist-packages/pandas/_libs/parsers.pyx\u001b[0m in \u001b[0;36mpandas._libs.parsers.TextReader.read_low_memory\u001b[0;34m()\u001b[0m\n",
            "\u001b[0;32m/usr/local/lib/python3.7/dist-packages/pandas/_libs/parsers.pyx\u001b[0m in \u001b[0;36mpandas._libs.parsers.TextReader._read_rows\u001b[0;34m()\u001b[0m\n",
            "\u001b[0;32m/usr/local/lib/python3.7/dist-packages/pandas/_libs/parsers.pyx\u001b[0m in \u001b[0;36mpandas._libs.parsers.TextReader._tokenize_rows\u001b[0;34m()\u001b[0m\n",
            "\u001b[0;32m/usr/local/lib/python3.7/dist-packages/pandas/_libs/parsers.pyx\u001b[0m in \u001b[0;36mpandas._libs.parsers.raise_parser_error\u001b[0;34m()\u001b[0m\n",
            "\u001b[0;31mParserError\u001b[0m: Error tokenizing data. C error: Expected 37 fields in line 63954, saw 51\n"
          ]
        }
      ],
      "source": [
        "application_data = pd.read_csv('/content/application_data.csv',lineterminator='\\n',nrows=307511)\n",
        "#print(application_data.iloc[1:10,2:5].values)\n",
        "prev_application= pd.read_csv(r'/content/previous_application.csv') \n",
        "#print(prev_application.iloc[1:10,:])nrows=197019\n",
        "col_desp=pd.read_csv(r'/content/columns_description.csv')\n",
        "#for i in col_desp:\n",
        "  #display(i)\n",
        "#print(prev_application.iloc[:10,:])\n",
        "#print(col_desp.shape)\n",
        "print(prev_application.shape)\n",
        "display(application_data.shape)\n",
        "#384180\n",
        "#display(application_data.tail(1))\n",
        "#384180\n",
        "print(sys.getsizeof(prev_application))\n",
        "display(prev_application[prev_application['SK_ID_CURR'] == 374073])\n",
        "display(prev_application.tail(1)) #(132387, 37)\n",
        "display(application_data.shape)#(307511,122)"
      ]
    },
    {
      "cell_type": "markdown",
      "metadata": {
        "id": "SwPAZTGyuzOk"
      },
      "source": [
        ""
      ]
    },
    {
      "cell_type": "code",
      "execution_count": null,
      "metadata": {
        "id": "O1xoP5i4uyDg"
      },
      "outputs": [],
      "source": [
        "pd.set_option(\"display.max_rows\",None,\"display.max_columns\",None)\n",
        "#display(application_data.head(3))\n",
        "#pd.set_option(\"display.max_rows\",1,\"display.max_columns\",1)\n",
        "display(application_data.head())\n",
        "print (pd.get_option(\"display.max_columns\"))"
      ]
    },
    {
      "cell_type": "code",
      "execution_count": null,
      "metadata": {
        "id": "K9RvGg8ty06-"
      },
      "outputs": [],
      "source": [
        "pd.set_option(\"display.max_rows\",None,\"display.max_columns\",None)\n",
        "display(prev_application.head(3))\n",
        "display(\"hi\")"
      ]
    },
    {
      "cell_type": "code",
      "execution_count": null,
      "metadata": {
        "id": "MguggXxYZnkI"
      },
      "outputs": [],
      "source": [
        "plt.figure(figsize=(18,6))\n",
        "miss_val_prev=pd.DataFrame(round(((prev_application.isnull().sum())*100/prev_application.shape[0]),2)).reset_index()\n",
        "#miss_previous_application = pd.DataFrame((previous_application.isnull().sum())*100/previous_application.shape[0]).reset_index()\n",
        "display(miss_val_prev.shape)\n",
        "##prev_application=prev_application.drop([\"AMT_DOWN_PAYMENT\",\"RATE_DOWN_PAYMENT\",\"RATE_INTEREST_PRIMARY\",\"RATE_INTEREST_PRIVILEGED\"],axis=1)\n",
        "#inplace=True)\n",
        "print(prev_application.head(10))\n",
        "print(\"prev_applic\")\n",
        "#prev_application[\"yoooo\"]=\"yoooo\"\n",
        "display(prev_application.head(4))\n",
        "display(miss_val_prev.head())\n",
        "miss_val_prev[\"type\"] = \"previous_application\"\n",
        "#print(pd.DataFrame(round(((prev_application.isnull().sum(axis=1))*100/prev_application.shape[0]),2)).reset_index())\n",
        "print(miss_val_prev.index)\n",
        "#display(miss_val_prev)\n",
        "#742246"
      ]
    },
    {
      "cell_type": "code",
      "execution_count": null,
      "metadata": {
        "id": "zJZNxe5AFkQs"
      },
      "outputs": [],
      "source": [
        "fig = plt.figure(figsize=(18,6))\n",
        "miss_previous_application = pd.DataFrame((prev_application.isnull().sum())*100/prev_application.shape[0]).reset_index()\n",
        "miss_previous_application[\"type\"] = \"previous_application\"\n",
        "#miss_previous_application[10] = 10\n",
        "#type1=100\n",
        "print(miss_previous_application)\n",
        "ax = sns.pointplot(x=\"index\",y=0,data=miss_previous_application,hue=\"type\")\n",
        "plt.xticks(rotation =90,fontsize =7)\n",
        "plt.title(\"Percentage of Missing values in previous_application\")\n",
        "plt.ylabel(\"PERCENTAGE\")\n",
        "plt.xlabel(\"COLUMNS\")\n",
        "ax.set_facecolor(\"green\")\n",
        "fig.set_facecolor(\"red\")\n"
      ]
    },
    {
      "cell_type": "code",
      "execution_count": null,
      "metadata": {
        "id": "Tj9irCTEflCp"
      },
      "outputs": [],
      "source": [
        "prev_application=prev_application.drop([\"RATE_INTEREST_PRIMARY\",\"RATE_INTEREST_PRIVILEGED\",\"RATE_DOWN_PAYMENT\",\"AMT_DOWN_PAYMENT\"],axis=1)\n",
        "print(prev_application.shape)"
      ]
    },
    {
      "cell_type": "code",
      "execution_count": null,
      "metadata": {
        "id": "i5FVEKFuhBqh"
      },
      "outputs": [],
      "source": [
        "fig=plt.figure(figsize=(18,7))\n",
        "miss_previous_application=pd.DataFrame(round(((prev_application.isnull().sum(axis=0))/prev_application.shape[0]),2)*100).reset_index()\n",
        "miss_previous_application[\"Type\"]=\"Previous Application\"\n",
        "ax=sns.pointplot(x =\"index\",data=miss_previous_application,y=0,hue=\"Type\")\n",
        "plt.xticks(rotation=90,fontsize=7)\n",
        "plt.xlabel(\"Index\")\n",
        "plt.ylabel(\"Null count\")\n",
        "plt.title(\"Percentage of Missing values in previous_application\")\n",
        "ax.set_facecolor(\"green\")\n",
        "fig.set_facecolor(\"red\")\n",
        "print(miss_previous_application)"
      ]
    },
    {
      "cell_type": "code",
      "execution_count": null,
      "metadata": {
        "id": "DOWWkezQ1SAu"
      },
      "outputs": [],
      "source": [
        "#if miss_previous_application[0] > 10:\n",
        "print(miss_previous_application[miss_previous_application[0]>0])\n",
        "#print(iloc(miss_previous_application.query())\n",
        "print(miss_previous_application.loc[miss_previous_application[0] > 0].values)\n"
      ]
    },
    {
      "cell_type": "code",
      "execution_count": null,
      "metadata": {
        "id": "vf1Qsun29LtU"
      },
      "outputs": [],
      "source": [
        "print(prev_application[\"AMT_ANNUITY\"].isnull().sum())\n",
        "prev_application[\"AMT_ANNUITY\"].describe()"
      ]
    },
    {
      "cell_type": "code",
      "execution_count": null,
      "metadata": {
        "id": "-s6iAQrC-8p8"
      },
      "outputs": [],
      "source": [
        "sns.set_style(\"white\")\n",
        "sns.distplot(prev_application[\"AMT_ANNUITY\"])\n",
        "fig.show()"
      ]
    },
    {
      "cell_type": "code",
      "execution_count": null,
      "metadata": {
        "id": "Va8-3rLWgFNW"
      },
      "outputs": [],
      "source": [
        "print(prev_application[\"AMT_GOODS_PRICE\"].isnull().sum())\n",
        "fig=plt.figure(figsize=(18,7))\n",
        "fig.set_facecolor(\"green\")\n",
        "plt.show()\n",
        "\n",
        "#missing=(prev_application.isnull().sum()/prev_application.shape[0])"
      ]
    },
    {
      "cell_type": "code",
      "execution_count": null,
      "metadata": {
        "id": "X4K-iuKM5j3I"
      },
      "outputs": [],
      "source": [
        "p=pd.DataFrame([[ 0,  1,  2],\n",
        "                 [ 3,  4,  5],\n",
        "                 [ 21,  7,  8],\n",
        "\n",
        "                [ 9, 10, 11],\n",
        "                 [12, 13, 14],\n",
        "                 [12, 16, 17],\n",
        "\n",
        "                [18, 19, 20],\n",
        "                 [21, 22, 23],\n",
        "                 [24, 25, 26]])\n",
        "print(p)\n",
        "a=sns.distplot(p[0],bins=5)\n",
        "plt.show()\n",
        "pp=sns.histplot(p[0])"
      ]
    },
    {
      "cell_type": "code",
      "execution_count": null,
      "metadata": {
        "id": "WWd108SehwSZ"
      },
      "outputs": [],
      "source": [
        "sns.set_style(\"white\")\n",
        "sns.distplot(prev_application[\"AMT_GOODS_PRICE\"])\n",
        "plt.show()"
      ]
    },
    {
      "cell_type": "code",
      "execution_count": null,
      "metadata": {
        "id": "UgiDJKa_9IJN"
      },
      "outputs": [],
      "source": [
        "#   AMT_ANNUITY  22.0  Previous Application\n",
        "#6             AMT_GOODS_PRICE  23.0  Previous Application\n",
        "#16            NAME_TYPE_SUITE  49.0  Previous Application\n",
        "#24                CNT_PAYMENT  22.0  Previous Application\n",
        "#27         DAYS_FIRST_DRAWING  40.0  Previous Application\n",
        "#28             DAYS_FIRST_DUE  40.0  Previous Application\n",
        "#29  DAYS_LAST_DUE_1ST_VERSION  40.0  Previous Application\n",
        "#30              DAYS_LAST_DUE  40.0  Previous Application\n",
        "#31           DAYS_TERMINATION  40.0  Previous Application\n",
        "#32  NFLAG_INSURED_ON_APPROVAL  40.0  Previous Application"
      ]
    },
    {
      "cell_type": "code",
      "execution_count": null,
      "metadata": {
        "id": "d74bNIJ8_qad"
      },
      "outputs": [],
      "source": [
        "print(prev_application[\"NAME_TYPE_SUITE\"].isnull().sum())\n",
        "prev_application[\"NAME_TYPE_SUITE\"].value_counts()"
      ]
    },
    {
      "cell_type": "code",
      "execution_count": null,
      "metadata": {
        "id": "HkAqpcgjAI4t"
      },
      "outputs": [],
      "source": [
        "print(prev_application[\"CNT_PAYMENT\"].isnull().sum())\n",
        "prev_application[\"CNT_PAYMENT\"].describe()"
      ]
    },
    {
      "cell_type": "code",
      "execution_count": null,
      "metadata": {
        "id": "Mwja6MV1Br54"
      },
      "outputs": [],
      "source": [
        "sns.set_style(\"white\")\n",
        "sns.boxplot(prev_application[\"CNT_PAYMENT\"])\n",
        "plt.show()"
      ]
    },
    {
      "cell_type": "code",
      "execution_count": null,
      "metadata": {
        "id": "aumB_zA_CBf4"
      },
      "outputs": [],
      "source": [
        "print(prev_application[\"DAYS_FIRST_DRAWING\"].isnull().sum())\n",
        "prev_application[\"DAYS_FIRST_DRAWING\"].describe()"
      ]
    },
    {
      "cell_type": "code",
      "execution_count": null,
      "metadata": {
        "id": "ci6lHV-cCgS1"
      },
      "outputs": [],
      "source": [
        "sns.set_style(\"white\")\n",
        "sns.boxplot(prev_application[\"DAYS_FIRST_DRAWING\"])\n",
        "plt.show()"
      ]
    },
    {
      "cell_type": "code",
      "execution_count": null,
      "metadata": {
        "id": "7EBcih3fCyLi"
      },
      "outputs": [],
      "source": [
        "print(prev_application[\"DAYS_FIRST_DUE\"].isnull().sum())\n",
        "prev_application[\"DAYS_FIRST_DUE\"].describe()"
      ]
    },
    {
      "cell_type": "code",
      "execution_count": null,
      "metadata": {
        "id": "ETt2blU1DBhE"
      },
      "outputs": [],
      "source": [
        "sns.set_style(\"white\")\n",
        "sns.boxplot(prev_application[\"DAYS_FIRST_DUE\"])\n",
        "plt.show()"
      ]
    },
    {
      "cell_type": "code",
      "execution_count": null,
      "metadata": {
        "id": "QsMlfA5ZDtN8"
      },
      "outputs": [],
      "source": [
        "print(prev_application[\"DAYS_LAST_DUE_1ST_VERSION\"].isnull().sum())\n",
        "prev_application[\"DAYS_LAST_DUE_1ST_VERSION\"].describe()"
      ]
    },
    {
      "cell_type": "code",
      "execution_count": null,
      "metadata": {
        "id": "ZN9uNQskEAl5"
      },
      "outputs": [],
      "source": [
        "sns.set_style(\"white\")\n",
        "sns.boxplot(prev_application[\"DAYS_LAST_DUE_1ST_VERSION\"])\n",
        "plt.show()"
      ]
    },
    {
      "cell_type": "code",
      "execution_count": null,
      "metadata": {
        "id": "Enk4K2d2EJrT"
      },
      "outputs": [],
      "source": [
        "print(prev_application[\"DAYS_LAST_DUE\"].isnull().sum())\n",
        "prev_application[\"DAYS_LAST_DUE\"].describe()"
      ]
    },
    {
      "cell_type": "code",
      "execution_count": null,
      "metadata": {
        "id": "sfsSzEqxEc_W"
      },
      "outputs": [],
      "source": [
        "sns.set_style(\"white\")\n",
        "sns.boxplot(prev_application[\"DAYS_LAST_DUE\"])\n",
        "plt.show()"
      ]
    },
    {
      "cell_type": "code",
      "execution_count": null,
      "metadata": {
        "id": "h0Va_sQ7ErN-"
      },
      "outputs": [],
      "source": [
        "print(prev_application[\"DAYS_TERMINATION\"].isnull().sum())\n",
        "prev_application[\"DAYS_TERMINATION\"].describe()"
      ]
    },
    {
      "cell_type": "code",
      "execution_count": null,
      "metadata": {
        "id": "GBteH9tgE4Rg"
      },
      "outputs": [],
      "source": [
        "sns.set_style(\"white\")\n",
        "sns.boxplot(prev_application[\"DAYS_TERMINATION\"])\n",
        "plt.show()"
      ]
    },
    {
      "cell_type": "code",
      "execution_count": null,
      "metadata": {
        "id": "0xgoYMd8FGNM"
      },
      "outputs": [],
      "source": [
        "print(prev_application[\"NFLAG_INSURED_ON_APPROVAL\"].isnull().sum())\n",
        "prev_application[\"NFLAG_INSURED_ON_APPROVAL\"].describe()"
      ]
    },
    {
      "cell_type": "code",
      "execution_count": null,
      "metadata": {
        "id": "bBp-UFfIFWM9"
      },
      "outputs": [],
      "source": [
        "print(prev_application[\"NFLAG_INSURED_ON_APPROVAL\"].value_counts())"
      ]
    },
    {
      "cell_type": "code",
      "execution_count": null,
      "metadata": {
        "id": "KRNzQzqKFz-P"
      },
      "outputs": [],
      "source": [
        "prev_application.isnull().sum()"
      ]
    },
    {
      "cell_type": "code",
      "execution_count": null,
      "metadata": {
        "id": "Mp7OSZwyGUwV"
      },
      "outputs": [],
      "source": [
        "print(prev_application[\"AMT_CREDIT\"].isnull().sum())\n",
        "prev_application[\"AMT_CREDIT\"].describe()"
      ]
    },
    {
      "cell_type": "code",
      "execution_count": null,
      "metadata": {
        "id": "N8BnurMyGn9O"
      },
      "outputs": [],
      "source": [
        "sns.set_style(\"whitegrid\")\n",
        "sns.boxplot(prev_application[\"AMT_CREDIT\"])\n",
        "#plt.show()"
      ]
    },
    {
      "cell_type": "code",
      "execution_count": null,
      "metadata": {
        "id": "l05gkqjBBMfh"
      },
      "outputs": [],
      "source": [
        "display(prev_application[\"AMT_CREDIT\"])"
      ]
    },
    {
      "cell_type": "code",
      "execution_count": null,
      "metadata": {
        "id": "1ue4EfJaGzLh"
      },
      "outputs": [],
      "source": [
        "print(prev_application[\"PRODUCT_COMBINATION\"].isnull().sum())\n",
        "prev_application[\"PRODUCT_COMBINATION\"].value_counts()"
      ]
    },
    {
      "cell_type": "code",
      "execution_count": null,
      "metadata": {
        "id": "NTtlrrAGol1k"
      },
      "outputs": [],
      "source": [
        "class color:\n",
        "   PURPLE = '\\033[95m'\n",
        "   CYAN = '\\033[96m'\n",
        "   DARKCYAN = '\\033[36m'\n",
        "   BLUE = '\\033[94m'\n",
        "   GREEN = '\\033[92m'\n",
        "   YELLOW = '\\033[93m'\n",
        "   RED = '\\033[91m'\n",
        "   BOLD = '\\033[1m'\n",
        "   UNDERLINE = '\\033[4m'\n",
        "   END = '\\033[0m'"
      ]
    },
    {
      "cell_type": "markdown",
      "metadata": {
        "id": "8MDHCx99jvHb"
      },
      "source": [
        "Separating Categorical and Non-categorical variables"
      ]
    },
    {
      "cell_type": "code",
      "execution_count": null,
      "metadata": {
        "id": "QYMW2pE6HBmo"
      },
      "outputs": [],
      "source": [
        "Catg_varb= [i for i in prev_application.select_dtypes(include=object) if i not in [\"type\"] ]\n",
        "print (colored('Catg_varb','blue'))\n",
        "display(Catg_varb)\n",
        "Num_varb=[i for i in prev_application.select_dtypes(include=np.number) if i not in ['SK_ID_CURR']+[\"TARGET\"]]\n",
        "#display(prev_application.columns.values)\n",
        "print(color.BOLD+color.RED+'Categorical variables'+color.END+'\\n')\n",
        "display(Num_varb)\n"
      ]
    },
    {
      "cell_type": "code",
      "execution_count": null,
      "metadata": {
        "id": "cbxZ04LQnoyI"
      },
      "outputs": [],
      "source": [
        "print(prev_application.columns.values)\n",
        "print(application_data.columns.values)\n",
        "print(prev_application.shape)\n",
        "print(application_data.shape)"
      ]
    },
    {
      "cell_type": "code",
      "execution_count": null,
      "metadata": {
        "id": "sQkv74gQqIHE"
      },
      "outputs": [],
      "source": [
        "fig=plt.figure(figsize=(18,6))\n",
        "miss_application_data=pd.DataFrame(round(application_data.isnull().sum()/len(application_data),2)*100).reset_index()\n",
        "print(miss_application_data)\n",
        "miss_application_data[\"Type\"]=\"Application data\"\n",
        "ax=sns.pointplot(x=miss_application_data['index'],y=miss_application_data[0],data=miss_application_data,hue=\"Type\")\n",
        "plt.xticks(rotation=90,fontsize=7)\n",
        "ax.set_facecolor(color='green')\n",
        "fig.set_facecolor(color='red')\n",
        "plt.xlabel(\"Application data\")\n",
        "plt.title(\"Null percentage in each column\")\n",
        "plt.ylabel(\"count\")\n",
        "\n",
        "\n"
      ]
    },
    {
      "cell_type": "markdown",
      "metadata": {
        "id": "hOKXOrXRw_lh"
      },
      "source": [
        "Drop the columns which have null percentage > 50"
      ]
    },
    {
      "cell_type": "code",
      "execution_count": null,
      "metadata": {
        "id": "uz4vch0nw8nZ"
      },
      "outputs": [],
      "source": [
        "application_data=application_data.drop([\"OWN_CAR_AGE\",\"EXT_SOURCE_1\",\"APARTMENTS_AVG\",\"BASEMENTAREA_AVG\",\"YEARS_BEGINEXPLUATATION_AVG\",\"YEARS_BUILD_AVG\",\"COMMONAREA_AVG\",\"ELEVATORS_AVG\",\n",
        "\"ENTRANCES_AVG\",\"FLOORSMAX_AVG\",\"FLOORSMIN_AVG\",\"LANDAREA_AVG\",\"LIVINGAPARTMENTS_AVG\",\"LIVINGAREA_AVG\",\"NONLIVINGAPARTMENTS_AVG\",\"NONLIVINGAREA_AVG\",\n",
        "\"APARTMENTS_MODE\",\"BASEMENTAREA_MODE\",\"YEARS_BEGINEXPLUATATION_MODE\",\"YEARS_BUILD_MODE\",\"COMMONAREA_MODE\",\"ELEVATORS_MODE\",\"ENTRANCES_MODE\",\"FLOORSMAX_MODE\",\"FLOORSMIN_MODE\",\n",
        "\"LANDAREA_MODE\",\"LIVINGAPARTMENTS_MODE\",\"LIVINGAREA_MODE\",\"NONLIVINGAPARTMENTS_MODE\",\"NONLIVINGAREA_MODE\",\"APARTMENTS_MEDI\",\"BASEMENTAREA_MEDI\",\n",
        "\"YEARS_BEGINEXPLUATATION_MEDI\",\"YEARS_BUILD_MEDI\",\"COMMONAREA_MEDI\",\"ELEVATORS_MEDI\",\"ENTRANCES_MEDI\",\"FLOORSMAX_MEDI\",\"FLOORSMIN_MEDI\",\"LANDAREA_MEDI\",\n",
        "\"LIVINGAPARTMENTS_MEDI\",\"LIVINGAREA_MEDI\",\"NONLIVINGAPARTMENTS_MEDI\",\"NONLIVINGAREA_MEDI\",\"FONDKAPREMONT_MODE\",\"HOUSETYPE_MODE\",\"TOTALAREA_MODE\",\n",
        "\"WALLSMATERIAL_MODE\",\"EMERGENCYSTATE_MODE\"],axis=1)\n",
        "print(application_data.columns)"
      ]
    },
    {
      "cell_type": "code",
      "execution_count": null,
      "metadata": {
        "id": "QwXOjBK33vNt"
      },
      "outputs": [],
      "source": [
        "application_data=application_data.drop([\"EXT_SOURCE_2\",\"EXT_SOURCE_3\",\"OCCUPATION_TYPE\"],axis=1)"
      ]
    },
    {
      "cell_type": "code",
      "execution_count": null,
      "metadata": {
        "id": "it44SlWcxvLd"
      },
      "outputs": [],
      "source": [
        "fig=plt.figure(figsize=(18,7))\n",
        "miss_application_data=pd.DataFrame(round(application_data.isnull().sum()/application_data.shape[0],2)*100).reset_index()\n",
        "miss_application_data[\"Type\"]=\"Application Data\"\n",
        "ax=sns.pointplot(x=\"index\",y=0,data=miss_application_data,hue=\"Type\")\n",
        "plt.xticks(rotation=90,fontsize=7)\n",
        "plt.xlabel(\"Application data\")\n",
        "plt.ylabel(\"Null Count\")\n",
        "plt.title(\"Null Percentage for each column\")\n",
        "ax.set_facecolor(color=\"green\")\n",
        "fig.set_facecolor(\"red\")\n",
        "plt.show()\n",
        "\n"
      ]
    },
    {
      "cell_type": "code",
      "execution_count": null,
      "metadata": {
        "id": "6u25ISWZ4IMx"
      },
      "outputs": [],
      "source": [
        "print(application_data.isnull().sum())\n",
        "print(application_data.shape)"
      ]
    },
    {
      "cell_type": "markdown",
      "metadata": {
        "id": "17JmF4qdcA5Y"
      },
      "source": [
        "Suggestion for missing values"
      ]
    },
    {
      "cell_type": "code",
      "execution_count": null,
      "metadata": {
        "id": "PLODuctoczOY"
      },
      "outputs": [],
      "source": [
        "print(application_data[\"AMT_ANNUITY\"].isnull().sum())"
      ]
    },
    {
      "cell_type": "code",
      "execution_count": null,
      "metadata": {
        "id": "oC2qVBUFvb6_"
      },
      "outputs": [],
      "source": [
        "#pip install missingno \n",
        "fig=plt.figure(figsize=(15,20))\n",
        "import missingno as msno\n",
        "msno.matrix(application_data.sort_values(\"OBS_30_CNT_SOCIAL_CIRCLE\"))"
      ]
    },
    {
      "cell_type": "code",
      "execution_count": null,
      "metadata": {
        "id": "gfz5xv3s77Ae"
      },
      "outputs": [],
      "source": [
        "fig=plt.figure(figsize=(1,2))\n",
        "#plt.subplot(ax[0])\n",
        "#display(application_data[application_data[\"AMT_ANNUITY\"]])\n",
        "msno.heatmap(application_data[[\"AMT_REQ_CREDIT_BUREAU_HOUR\",\"AMT_REQ_CREDIT_BUREAU_DAY\",\"AMT_REQ_CREDIT_BUREAU_WEEK\",\"AMT_REQ_CREDIT_BUREAU_MON\",\n",
        "\"AMT_REQ_CREDIT_BUREAU_QRT\",\"AMT_REQ_CREDIT_BUREAU_YEAR\"]])\n",
        "#plt.subplot(1,2,2)\n",
        "msno.heatmap(application_data[[\"OBS_30_CNT_SOCIAL_CIRCLE\",\"DEF_30_CNT_SOCIAL_CIRCLE\",\"OBS_60_CNT_SOCIAL_CIRCLE\",\"DEF_60_CNT_SOCIAL_CIRCLE\"]])\n"
      ]
    },
    {
      "cell_type": "code",
      "execution_count": null,
      "metadata": {
        "id": "2H0u3yZddH_e"
      },
      "outputs": [],
      "source": [
        "print(application_data[\"AMT_ANNUITY\"].describe())\n",
        "missing_survey = application_data[application_data['AMT_REQ_CREDIT_BUREAU_HOUR'].isna()]\n",
        "complete_survey = application_data[~application_data['AMT_REQ_CREDIT_BUREAU_HOUR'].isna()]\n",
        "display()\n",
        "display(missing_survey.describe())\n",
        "display(complete_survey.describe())"
      ]
    },
    {
      "cell_type": "code",
      "execution_count": null,
      "metadata": {
        "id": "SxN85Voa5Es-"
      },
      "outputs": [],
      "source": [
        "display(missing_survey.head(2))\n",
        "print(missing_survey.shape)\n",
        "#NAME_TYPE_SUITE\n",
        "#NAME_EDUCATION_TYPE\n",
        "#NAME_HOUSING_TYPE\n",
        "fig=plt.figure(figsize=(10,5))\n",
        "sns.countplot(x=application_data[\"FLAG_DOCUMENT_21\"],hue=application_data[\"AMT_REQ_CREDIT_BUREAU_HOUR\"].isna())\n",
        "#missing values are more in females than males in AMT_REQ_CREDIT_BUREAU_HOUR"
      ]
    },
    {
      "cell_type": "markdown",
      "metadata": {
        "id": "KhHlSlsBYxH8"
      },
      "source": [
        "NULLS in AMT_ANNUITY can be replaced by value-24903.000000 # median"
      ]
    },
    {
      "cell_type": "code",
      "execution_count": null,
      "metadata": {
        "id": "dF7bAgnRdwo_"
      },
      "outputs": [],
      "source": [
        "sns.set_style(\"whitegrid\")\n",
        "fig, ax = plt.subplots()\n",
        "#ax.set_xlim(9000)\n",
        "sns.distplot(application_data[\"AMT_ANNUITY\"],kde='false')\n",
        "\n",
        "#sns.histplot(application_data[\"AMT_ANNUITY\"],bins=100)\n",
        "\n",
        "plt.show\n",
        "print(application_data[\"AMT_ANNUITY\"].mode())\n",
        "#application_data.dropna(subset=[\"AMT_ANNUITY\"])"
      ]
    },
    {
      "cell_type": "code",
      "source": [
        "application_data.dropna(subset=[\"AMT_ANNUITY\"])"
      ],
      "metadata": {
        "id": "FzIWNcb82JES"
      },
      "execution_count": null,
      "outputs": []
    },
    {
      "cell_type": "code",
      "execution_count": null,
      "metadata": {
        "id": "vam7OBw0l1jp"
      },
      "outputs": [],
      "source": [
        "a=[1,2,3,1,1,1,1,2,50]\n",
        "fig, ax = plt.subplots()\n",
        "df=pd.DataFrame(a)\n",
        "ax.set_xlim(1, 10)\n",
        "sns.distplot(a,ax=ax)\n",
        "print(df.mode())"
      ]
    },
    {
      "cell_type": "code",
      "execution_count": null,
      "metadata": {
        "id": "Ba4fGw3bigR2"
      },
      "outputs": [],
      "source": [
        "print(application_data[\"AMT_GOODS_PRICE\"].isnull().sum())"
      ]
    },
    {
      "cell_type": "code",
      "execution_count": null,
      "metadata": {
        "id": "1QX3VqMyg91G"
      },
      "outputs": [],
      "source": [
        "\n",
        "print(application_data[\"AMT_GOODS_PRICE\"].describe())"
      ]
    },
    {
      "cell_type": "code",
      "execution_count": null,
      "metadata": {
        "id": "0T05GLpUiCdo"
      },
      "outputs": [],
      "source": [
        "print(application_data.shape)\n",
        "application_data=application_data.dropna(subset=[\"AMT_GOODS_PRICE\"])\n",
        "print(application_data.shape)"
      ]
    },
    {
      "cell_type": "code",
      "execution_count": null,
      "metadata": {
        "id": "XyVtisPliqoP"
      },
      "outputs": [],
      "source": [
        "sns.set_style(\"whitegrid\")\n",
        "sns.distplot(application_data[\"AMT_GOODS_PRICE\"])\n",
        "plt.show()"
      ]
    },
    {
      "cell_type": "code",
      "execution_count": null,
      "metadata": {
        "id": "_c45-EsxubII"
      },
      "outputs": [],
      "source": [
        "print(application_data[\"NAME_TYPE_SUITE\"].isnull().sum())\n",
        "print(application_data[\"NAME_TYPE_SUITE\"].value_counts())\n",
        "application_data=application_data.dropna(subset=[\"NAME_TYPE_SUITE\"])\n",
        "print(application_data[\"NAME_TYPE_SUITE\"].isnull().sum())"
      ]
    },
    {
      "cell_type": "code",
      "execution_count": null,
      "metadata": {
        "id": "Kl2dcQkFvX4u"
      },
      "outputs": [],
      "source": [
        "fig=plt.figure(figsize=(10,7))\n",
        "sns.set_style(\"whitegrid\")\n",
        "sns.histplot(application_data[\"NAME_TYPE_SUITE\"])\n",
        "#sns.boxplot(x=application_data[\"NAME_TYPE_SUITE\"],data=application_data[\"NAME_TYPE_SUITE\"])\n",
        "#plt.xticks(rotation=90)\n",
        "plt.title(\"hi\")\n",
        "fig.set_facecolor(\"red\")\n",
        "plt.show()"
      ]
    },
    {
      "cell_type": "code",
      "execution_count": null,
      "metadata": {
        "id": "SOoQYbkr2xeA"
      },
      "outputs": [],
      "source": [
        "print(application_data[\"CNT_FAM_MEMBERS\"].isnull().sum())\n",
        "print(application_data[\"CNT_FAM_MEMBERS\"].describe())"
      ]
    },
    {
      "cell_type": "code",
      "execution_count": null,
      "metadata": {
        "id": "oe7E-oZF3K1w"
      },
      "outputs": [],
      "source": [
        "sns.set_style(\"whitegrid\")\n",
        "sns.boxplot(application_data[\"CNT_FAM_MEMBERS\"])\n",
        "plt.xlim(0,4.5)\n",
        "plt.show()"
      ]
    },
    {
      "cell_type": "code",
      "execution_count": null,
      "metadata": {
        "id": "BO8ax28G5M3o"
      },
      "outputs": [],
      "source": [
        "print(application_data[\"OBS_30_CNT_SOCIAL_CIRCLE\"].isnull().sum())\n",
        "print(application_data[\"OBS_30_CNT_SOCIAL_CIRCLE\"].describe())\n",
        "application_data=application_data.dropna(subset=[\"OBS_30_CNT_SOCIAL_CIRCLE\"])\n",
        "print(application_data[\"OBS_30_CNT_SOCIAL_CIRCLE\"].isnull().sum())"
      ]
    },
    {
      "cell_type": "code",
      "execution_count": null,
      "metadata": {
        "id": "hrUYxKWa5iAA"
      },
      "outputs": [],
      "source": [
        "sns.set_style(\"whitegrid\")\n",
        "sns.boxplot(application_data[\"OBS_30_CNT_SOCIAL_CIRCLE\"])\n",
        "plt.xlim(-4,2)\n",
        "plt.show()\n"
      ]
    },
    {
      "cell_type": "code",
      "execution_count": null,
      "metadata": {
        "id": "Hn24Z8eQ79kB"
      },
      "outputs": [],
      "source": [
        "print(application_data[\"DEF_30_CNT_SOCIAL_CIRCLE\"].isnull().sum())\n",
        "print(application_data[\"DEF_30_CNT_SOCIAL_CIRCLE\"].describe())\n",
        "application_data=application_data.dropna(subset=[\"DEF_30_CNT_SOCIAL_CIRCLE\"])"
      ]
    },
    {
      "cell_type": "code",
      "execution_count": null,
      "metadata": {
        "id": "ipQ7Ldkr8TXY"
      },
      "outputs": [],
      "source": [
        "sns.set_style(\"whitegrid\")\n",
        "sns.boxplot(application_data[\"DEF_30_CNT_SOCIAL_CIRCLE\"])\n",
        "plt.show()"
      ]
    },
    {
      "cell_type": "code",
      "execution_count": null,
      "metadata": {
        "id": "zjhXs2k38mti"
      },
      "outputs": [],
      "source": [
        "print(application_data[\"OBS_60_CNT_SOCIAL_CIRCLE\"].isnull().sum())\n",
        "print(application_data[\"OBS_60_CNT_SOCIAL_CIRCLE\"].describe())\n",
        "application_data=application_data.dropna(subset=[\"OBS_60_CNT_SOCIAL_CIRCLE\"])"
      ]
    },
    {
      "cell_type": "code",
      "execution_count": null,
      "metadata": {
        "id": "Ihn8b7qJ9H0r"
      },
      "outputs": [],
      "source": [
        "sns.set_style(\"whitegrid\")\n",
        "sns.boxplot(application_data[\"OBS_60_CNT_SOCIAL_CIRCLE\"])\n",
        "plt.show()"
      ]
    },
    {
      "cell_type": "code",
      "execution_count": null,
      "metadata": {
        "id": "JQ3Zb52n9ZeL"
      },
      "outputs": [],
      "source": [
        "print(application_data[\"DEF_60_CNT_SOCIAL_CIRCLE\"].isnull().sum())\n",
        "print(application_data[\"DEF_60_CNT_SOCIAL_CIRCLE\"].describe())\n",
        "application_data=application_data.dropna(subset=[\"DEF_60_CNT_SOCIAL_CIRCLE\"])"
      ]
    },
    {
      "cell_type": "code",
      "execution_count": null,
      "metadata": {
        "id": "kXg9p1Hl9jJ-"
      },
      "outputs": [],
      "source": [
        "sns.set_style(\"whitegrid\")\n",
        "sns.boxplot(application_data[\"DEF_60_CNT_SOCIAL_CIRCLE\"])\n",
        "plt.show()"
      ]
    },
    {
      "cell_type": "code",
      "execution_count": null,
      "metadata": {
        "id": "8eGNX0YZ-tgL"
      },
      "outputs": [],
      "source": [
        "print(application_data[\"DAYS_LAST_PHONE_CHANGE\"].isnull().sum())\n",
        "print(application_data[\"DAYS_LAST_PHONE_CHANGE\"].describe())\n",
        "application_data=application_data.dropna(subset=[\"DAYS_LAST_PHONE_CHANGE\"])"
      ]
    },
    {
      "cell_type": "code",
      "execution_count": null,
      "metadata": {
        "id": "yMH_FqXD-6_T"
      },
      "outputs": [],
      "source": [
        "sns.set_style(\"whitegrid\")\n",
        "sns.boxplot(application_data[\"DAYS_LAST_PHONE_CHANGE\"])\n",
        "#plt.xlim(-800,-700)\n",
        "plt.show()"
      ]
    },
    {
      "cell_type": "code",
      "execution_count": null,
      "metadata": {
        "id": "s3O6kD-f_jg-"
      },
      "outputs": [],
      "source": [
        "print(application_data[\"AMT_REQ_CREDIT_BUREAU_HOUR\"].isnull().sum())\n",
        "print(application_data[\"AMT_REQ_CREDIT_BUREAU_HOUR\"].describe())\n",
        "#application_data['AMT_REQ_CREDIT_BUREAU_HOUR'] = application_data['AMT_REQ_CREDIT_BUREAU_HOUR'] .fillna(application_data['AMT_REQ_CREDIT_BUREAU_HOUR'] .mean())"
      ]
    },
    {
      "cell_type": "code",
      "execution_count": null,
      "metadata": {
        "id": "oVgqUhYJ_vld"
      },
      "outputs": [],
      "source": [
        "sns.set_style(\"whitegrid\")\n",
        "sns.boxplot(application_data[\"AMT_REQ_CREDIT_BUREAU_HOUR\"])\n",
        "plt.show()"
      ]
    },
    {
      "cell_type": "code",
      "execution_count": null,
      "metadata": {
        "id": "x_wYRaj_AHrX"
      },
      "outputs": [],
      "source": [
        "print(application_data[\"AMT_REQ_CREDIT_BUREAU_DAY\"].isnull().sum())\n",
        "print(application_data[\"AMT_REQ_CREDIT_BUREAU_DAY\"].describe())"
      ]
    },
    {
      "cell_type": "code",
      "execution_count": null,
      "metadata": {
        "id": "gTkKkLjrAX4_"
      },
      "outputs": [],
      "source": [
        "sns.set_style(\"whitegrid\")\n",
        "sns.boxplot(application_data[\"AMT_REQ_CREDIT_BUREAU_DAY\"])\n",
        "plt.show()"
      ]
    },
    {
      "cell_type": "code",
      "execution_count": null,
      "metadata": {
        "id": "RcykdycFAgpW"
      },
      "outputs": [],
      "source": [
        "print(application_data[\"AMT_REQ_CREDIT_BUREAU_WEEK\"].isnull().sum())\n",
        "print(application_data[\"AMT_REQ_CREDIT_BUREAU_WEEK\"].describe())"
      ]
    },
    {
      "cell_type": "code",
      "execution_count": null,
      "metadata": {
        "id": "Tiz5_aE-AtzE"
      },
      "outputs": [],
      "source": [
        "sns.set_style(\"whitegrid\")\n",
        "sns.boxplot(application_data[\"AMT_REQ_CREDIT_BUREAU_WEEK\"])\n",
        "plt.show()"
      ]
    },
    {
      "cell_type": "code",
      "execution_count": null,
      "metadata": {
        "id": "hC1IN3VyA8W7"
      },
      "outputs": [],
      "source": [
        "print(application_data[\"AMT_REQ_CREDIT_BUREAU_MON\"].isnull().sum())\n",
        "print(application_data[\"AMT_REQ_CREDIT_BUREAU_MON\"].describe())"
      ]
    },
    {
      "cell_type": "code",
      "execution_count": null,
      "metadata": {
        "id": "1rYZ9FLUBE9C"
      },
      "outputs": [],
      "source": [
        "sns.set_style(\"whitegrid\")\n",
        "sns.boxplot(application_data[\"AMT_REQ_CREDIT_BUREAU_MON\"])\n",
        "plt.show()"
      ]
    },
    {
      "cell_type": "code",
      "execution_count": null,
      "metadata": {
        "id": "2vDmSMCTBNFq"
      },
      "outputs": [],
      "source": [
        "print(application_data[\"AMT_REQ_CREDIT_BUREAU_QRT\"].isnull().sum())\n",
        "print(application_data[\"AMT_REQ_CREDIT_BUREAU_QRT\"].describe())"
      ]
    },
    {
      "cell_type": "code",
      "execution_count": null,
      "metadata": {
        "id": "TmGSO8isBTus"
      },
      "outputs": [],
      "source": [
        "sns.set_style()\n",
        "sns.boxplot(application_data[\"AMT_REQ_CREDIT_BUREAU_QRT\"])\n",
        "plt.show()"
      ]
    },
    {
      "cell_type": "code",
      "execution_count": null,
      "metadata": {
        "id": "CVjXxU2ZCVkC"
      },
      "outputs": [],
      "source": [
        "print(application_data[\"AMT_REQ_CREDIT_BUREAU_YEAR\"].isnull().sum())\n",
        "print(application_data[\"AMT_REQ_CREDIT_BUREAU_YEAR\"].describe())"
      ]
    },
    {
      "cell_type": "code",
      "execution_count": null,
      "metadata": {
        "id": "3nHhCBO2CrcI"
      },
      "outputs": [],
      "source": [
        "sns.set_style(\"whitegrid\")\n",
        "sns.boxplot(application_data[\"AMT_REQ_CREDIT_BUREAU_YEAR\"])\n",
        "plt.show()"
      ]
    },
    {
      "cell_type": "markdown",
      "metadata": {
        "id": "n7CwltaWkNaa"
      },
      "source": [
        "Analysing missing values for columns :AMT_REQ_CREDIT_BUREAU_HOUR   \n",
        "                                      AMT_REQ_CREDIT_BUREAU_DAY    \n",
        "                                      AMT_REQ_CREDIT_BUREAU_WEEK  \n",
        "                                      AMT_REQ_CREDIT_BUREAU_MON    \n",
        "                                      AMT_REQ_CREDIT_BUREAU_QRT    \n",
        "                                      AMT_REQ_CREDIT_BUREAU_YEAR\n",
        "in application data"
      ]
    },
    {
      "cell_type": "code",
      "execution_count": null,
      "metadata": {
        "id": "XY1whPAyk9dd"
      },
      "outputs": [],
      "source": [
        "#pip install missingno \n",
        "fig=plt.figure(figsize=(15,20))\n",
        "import missingno as msno\n",
        "msno.matrix(application_data)\n",
        "#msno.matrix(application_data.sort_values(\"OBS_30_CNT_SOCIAL_CIRCLE\"))"
      ]
    },
    {
      "cell_type": "code",
      "execution_count": null,
      "metadata": {
        "id": "GNZKoe3Blbqi"
      },
      "outputs": [],
      "source": [
        "msno.heatmap(application_data[[\"AMT_REQ_CREDIT_BUREAU_HOUR\",\"AMT_REQ_CREDIT_BUREAU_DAY\",\"AMT_REQ_CREDIT_BUREAU_WEEK\",\"AMT_REQ_CREDIT_BUREAU_MON\",\n",
        "\"AMT_REQ_CREDIT_BUREAU_QRT\",\"AMT_REQ_CREDIT_BUREAU_YEAR\"]])\n",
        "#msno.heatmap(application_data[[\"OBS_30_CNT_SOCIAL_CIRCLE\",\"DEF_30_CNT_SOCIAL_CIRCLE\",\"OBS_60_CNT_SOCIAL_CIRCLE\",\"DEF_60_CNT_SOCIAL_CIRCLE\"]])\n"
      ]
    },
    {
      "cell_type": "code",
      "execution_count": null,
      "metadata": {
        "id": "lLk9puripozT"
      },
      "outputs": [],
      "source": [
        "data=application_data[[\"AMT_REQ_CREDIT_BUREAU_HOUR\",\"AMT_REQ_CREDIT_BUREAU_DAY\",\"AMT_REQ_CREDIT_BUREAU_WEEK\",\"AMT_REQ_CREDIT_BUREAU_MON\",\n",
        "\"AMT_REQ_CREDIT_BUREAU_QRT\",\"AMT_REQ_CREDIT_BUREAU_YEAR\"]]\n",
        "corrt=data.corr(method=\"spearman\")  \n",
        "f, ax = plt.subplots(figsize =(10, 10)) \n",
        "sns.heatmap(corrt ,annot=True,ax = ax,fmt='.2f', cmap =\"crest_r\") \n",
        "plt.show()"
      ]
    },
    {
      "cell_type": "code",
      "execution_count": null,
      "metadata": {
        "id": "mRWHiZ-imgN3"
      },
      "outputs": [],
      "source": [
        "missing_survey = application_data[application_data['AMT_REQ_CREDIT_BUREAU_HOUR'].isna()]\n",
        "complete_survey = application_data[~application_data['AMT_REQ_CREDIT_BUREAU_HOUR'].isna()]\n",
        "display()\n",
        "display(missing_survey.describe())\n",
        "display(complete_survey.describe())"
      ]
    },
    {
      "cell_type": "markdown",
      "metadata": {
        "id": "g1awQQJ3l3Nc"
      },
      "source": [
        "As all 6 variables seemed to be perflectly correlated from above  plots, we can keep 1 and drop remaining to reduce complexity"
      ]
    },
    {
      "cell_type": "code",
      "execution_count": null,
      "metadata": {
        "id": "AvFN8xOqmHgO"
      },
      "outputs": [],
      "source": [
        "#application_data=application_data.drop([\"AMT_REQ_CREDIT_BUREAU_DAY\",\"AMT_REQ_CREDIT_BUREAU_WEEK\",\"AMT_REQ_CREDIT_BUREAU_MON\",\n",
        "#\"AMT_REQ_CREDIT_BUREAU_QRT\",\"AMT_REQ_CREDIT_BUREAU_YEAR\"],axis=1)"
      ]
    },
    {
      "cell_type": "code",
      "execution_count": null,
      "metadata": {
        "id": "Uzncw8RLnNOV"
      },
      "outputs": [],
      "source": [
        "print(application_data.isnull().sum())"
      ]
    },
    {
      "cell_type": "markdown",
      "metadata": {
        "id": "ygYq8hXJnb75"
      },
      "source": [
        "Performing simple imputation using mean for column : AMT_REQ_CREDIT_BUREAU_HOUR"
      ]
    },
    {
      "cell_type": "code",
      "execution_count": null,
      "metadata": {
        "id": "T2L069YSnV06"
      },
      "outputs": [],
      "source": [
        "application_data[\"AMT_REQ_CREDIT_BUREAU_HOUR\"]=application_data[\"AMT_REQ_CREDIT_BUREAU_HOUR\"].fillna(application_data[\"AMT_REQ_CREDIT_BUREAU_HOUR\"].mean())\n",
        "application_data[\"AMT_REQ_CREDIT_BUREAU_DAY\"]=application_data[\"AMT_REQ_CREDIT_BUREAU_DAY\"].fillna(application_data[\"AMT_REQ_CREDIT_BUREAU_DAY\"].mean())\n",
        "application_data[\"AMT_REQ_CREDIT_BUREAU_WEEK\"]=application_data[\"AMT_REQ_CREDIT_BUREAU_WEEK\"].fillna(application_data[\"AMT_REQ_CREDIT_BUREAU_WEEK\"].mean())\n",
        "application_data[\"AMT_REQ_CREDIT_BUREAU_MON\"]=application_data[\"AMT_REQ_CREDIT_BUREAU_MON\"].fillna(application_data[\"AMT_REQ_CREDIT_BUREAU_MON\"].mean())\n",
        "application_data[\"AMT_REQ_CREDIT_BUREAU_QRT\"]=application_data[\"AMT_REQ_CREDIT_BUREAU_QRT\"].fillna(application_data[\"AMT_REQ_CREDIT_BUREAU_QRT\"].mean())\n",
        "application_data[\"AMT_REQ_CREDIT_BUREAU_YEAR\"]=application_data[\"AMT_REQ_CREDIT_BUREAU_YEAR\"].fillna(application_data[\"AMT_REQ_CREDIT_BUREAU_YEAR\"].mean())\n",
        "\n",
        "#data['quantity'] = data['quantity'].fillna(data['quantity'].mean())"
      ]
    },
    {
      "cell_type": "markdown",
      "metadata": {
        "id": "IB1KS1qwofvf"
      },
      "source": [
        "Replaced all missing values/nans with appropriate imputed values"
      ]
    },
    {
      "cell_type": "code",
      "execution_count": null,
      "metadata": {
        "id": "tbLddZyLob-S"
      },
      "outputs": [],
      "source": [
        "print(application_data.isnull().sum())"
      ]
    },
    {
      "cell_type": "code",
      "execution_count": null,
      "metadata": {
        "id": "WF3KgZRfexW0"
      },
      "outputs": [],
      "source": [
        "print(application_data.info())"
      ]
    },
    {
      "cell_type": "markdown",
      "metadata": {
        "id": "yI_PAe5bWP6T"
      },
      "source": [
        "Converting Negative values to positive for application data"
      ]
    },
    {
      "cell_type": "code",
      "execution_count": null,
      "metadata": {
        "id": "c4E-JoZaLTju"
      },
      "outputs": [],
      "source": [
        "application_data[\"DAYS_BIRTH\"]=abs(application_data[\"DAYS_BIRTH\"])\n",
        "application_data[\"DAYS_EMPLOYED\"]=application_data[\"DAYS_EMPLOYED\"].abs()\n",
        "application_data[\"DAYS_REGISTRATION\"]=abs(application_data[\"DAYS_REGISTRATION\"])\n",
        "application_data[\"DAYS_LAST_PHONE_CHANGE\"]=abs(application_data[\"DAYS_LAST_PHONE_CHANGE\"])\n",
        "application_data[\"DAYS_ID_PUBLISH\"]=abs(application_data[\"DAYS_ID_PUBLISH\"])\n",
        "                 \n"
      ]
    },
    {
      "cell_type": "markdown",
      "metadata": {
        "id": "GaQlc4MCYL93"
      },
      "source": [
        "Separating Categorical data and numerical data from application data"
      ]
    },
    {
      "cell_type": "code",
      "execution_count": null,
      "metadata": {
        "id": "I4mYI2m3YRht"
      },
      "outputs": [],
      "source": [
        "Num_data=[i for i in application_data.select_dtypes(include=np.number).columns if i not in  'TARGET']\n",
        "Catg_data=[i for i in application_data.select_dtypes(include=object).columns if i not in 'SK_ID_CURR']\n",
        "print(color.BOLD+color.RED+\"Numerical Columns\")\n",
        "display(Num_data)\n",
        "print(colored(\"Categorical columns\",\"red\"))\n",
        "display(Catg_data)"
      ]
    },
    {
      "cell_type": "markdown",
      "metadata": {
        "id": "onqFZcWYY82K"
      },
      "source": [
        "EDA --CODE_GENDER AND TARGET"
      ]
    },
    {
      "cell_type": "code",
      "execution_count": null,
      "metadata": {
        "id": "Z40rEijwf7bW"
      },
      "outputs": [],
      "source": [
        "plt.figure(figsize=(8,5))\n",
        "ax=application_data[\"CODE_GENDER\"].value_counts().plot.pie(startangle=90,autopct=\"%.1f%%\",explode=[0,0,0],colors=[\"green\",\"blue\",\"red\"]\n",
        "                                                      ,wedgeprops={\"linewidth\":3,\"edgecolor\":\"white\"})\n",
        "plt.title(\"Distribution of gender\")\n",
        "#ax.text(0.5,0.12,\"ji\")\n",
        "plt.show()"
      ]
    },
    {
      "cell_type": "markdown",
      "metadata": {
        "id": "hWKzKYvkjoku"
      },
      "source": [
        "Distribution of target variable"
      ]
    },
    {
      "cell_type": "code",
      "execution_count": null,
      "metadata": {
        "id": "FQWT1fIjjhy-"
      },
      "outputs": [],
      "source": [
        "plt.figure(figsize=(10,8))\n",
        "plt.subplot(1,2,1)\n",
        "application_data[\"TARGET\"].value_counts().plot.pie(startangle=90,colors=[\"green\",\"blue\"],autopct=\"%.2f%%\",labels=[\"repayer\",\"defaulters\"],\n",
        "                                                   explode=[0,0],wedgeprops={\"edgecolor\":\"white\",\"linewidth\":1})\n",
        "plt.subplot(1,2,2)\n",
        "ax=application_data[\"TARGET\"].value_counts().plot(kind=\"barh\")\n",
        "p=application_data[\"TARGET\"].value_counts()\n",
        "p1=pd.DataFrame(p)\n",
        "l=\"lp\"\n",
        "print(p)\n",
        "print(type(p))\n",
        "print(p1)\n",
        "print(p1.iloc[0].values)\n",
        "for i in (0,1):\n",
        "  ax.text(0.7,i,p.iloc[i])\n",
        "  #ax.text(0.7,i,application_data[\"TARGET\"].value_counts().iloc[i])\n",
        "#ax.text(0.7,p1[\"TARGET\"],p1[\"index\"])\n",
        "\n",
        "\n",
        "#for i,j in enumerate(application_data[\"TARGET\"].value_counts()):\n",
        "  #ax.text(.7,i,j,weight = \"bold\",fontsize=20)\n",
        "  #ax.text(0.7,i,j)\n",
        "plt.title(\"Bar graph\")"
      ]
    },
    {
      "cell_type": "markdown",
      "metadata": {
        "id": "BX6EGGdz5Nc0"
      },
      "source": [
        "Merge previous_application_data and Application_data into 1 single dataframe"
      ]
    },
    {
      "cell_type": "code",
      "execution_count": null,
      "metadata": {
        "id": "ppJn0iEh5ML2"
      },
      "outputs": [],
      "source": [
        "prev_application_d1=prev_application[[i for i in prev_application.columns if i not in [\"TARGET\"]]]\n",
        "application_data_d2=application_data[[i for i in application_data.columns if i not in [\"TARGET\"]]]\n",
        "prev_application_d1[\"Type\"]='Previous Application Data'\n",
        "application_data_d2[\"Type\"]='Application Data'\n",
        "data=pd.concat([prev_application_d1,application_data_d2],axis=0)\n",
        "display(data[data[\"SK_ID_CURR\"]==100002])\n",
        "#display(application_data_d2[application_data_d2[\"SK_ID_CURR\"]==100002])\n",
        "#print(\"here\")\n",
        "##display(prev_application_d1[prev_application_d1[\"SK_ID_CURR\"]==100002])\n",
        "#print(application_data_d2.shape)\n",
        "#print(prev_application_d1.shape)\n",
        "#print(data.shape)\n",
        "#display(application_data_d2.head(1))"
      ]
    },
    {
      "cell_type": "markdown",
      "metadata": {
        "id": "Z7rD1oXTSGuD"
      },
      "source": [
        "Distribution of NAME_CONTRACT_TYPE"
      ]
    },
    {
      "cell_type": "code",
      "execution_count": null,
      "metadata": {
        "id": "ZwumKM89QG_F"
      },
      "outputs": [],
      "source": [
        "plt.figure(figsize=(16,8))\n",
        "plt.subplot(1,2,1)\n",
        "data[data[\"Type\"]==\"Application Data\"][\"NAME_CONTRACT_TYPE\"].value_counts().plot.pie(autopct='%.2f%%',startangle=90,shadow=\"true\",\n",
        "                                                                     colors=[\"blue\",\"orange\"],wedgeprops = {\"edgecolor\":\"red\",\"linewidth\":\"1\"})\n",
        "circ=plt.Circle((0,0),0.7,color=\"white\")\n",
        "plt.gca().add_artist(circ)\n",
        "\n",
        "plt.title(\"Distribution of NAME_CONTRACT_TYPE in Application Data\")\n",
        "plt.subplot(1,2,2)\n",
        "data[data[\"Type\"]==\"Previous Application Data\"][\"NAME_CONTRACT_TYPE\"].value_counts().plot.pie(autopct=\"%.2f%%\",startangle=90,shadow=\"True\",\n",
        "                                                                                              wedgeprops = {\"edgecolor\":\"red\",\"linewidth\":2},colors=[\"blue\",\"green\",\"orange\",\"yellow\"])\n",
        "circ=plt.Circle((0,0),0.7,color=\"white\")\n",
        "plt.gca().add_artist(circ)\n",
        "\n",
        "plt.title(\"Distribution of NAME_CONTRACT_TYPE in  Previous Application Data \")\n",
        "\n",
        "#circ = plt.Circle((0,0),.7,color=\"white\")\n",
        "#plt.gca().add_artist(circ)"
      ]
    },
    {
      "cell_type": "markdown",
      "metadata": {
        "id": "gscpssFBPLJ4"
      },
      "source": [
        "Distribution of FLAG_OWN_CAR  "
      ]
    },
    {
      "cell_type": "markdown",
      "metadata": {
        "id": "iNL8qEOAnFeP"
      },
      "source": [
        ""
      ]
    },
    {
      "cell_type": "code",
      "execution_count": null,
      "metadata": {
        "id": "DojebYoqnEjw"
      },
      "outputs": [],
      "source": [
        "fig=plt.figure(figsize=(20,10))\n",
        "plt.subplot(2,3,1)\n",
        "plt.title(\"Distribution of FLAG_OWN_CAR\") \n",
        "data[data[\"Type\"]==\"Application Data\"][\"FLAG_OWN_CAR\"].value_counts().plot.pie(startangle=90,autopct=\"%.2f%%\",colors=[\"green\",\"yellow\"],\n",
        "                                                                               wedgeprops={\"linewidth\":2,\"edgecolor\":\"red\"})\n",
        "circ=plt.Circle((0,0),0.7,color=\"white\")\n",
        "plt.gca().add_artist(circ)\n",
        "\n",
        "#plt.xticks(rotation=90,fontsize=10)\n",
        "plt.subplot(2,3,2)\n",
        "plt.title(\"Defaulter\")\n",
        "application_data[application_data[\"TARGET\"]==1][\"FLAG_OWN_CAR\"].value_counts().plot.pie(startangle=90,autopct=\"%.2f%%\",colors=[\"green\",\"yellow\"],\n",
        "                                                                               wedgeprops={\"linewidth\":2,\"edgecolor\":\"red\"})\n",
        "circ=plt.Circle((0,0),0.7,color=\"white\")\n",
        "plt.gca().add_artist(circ)\n",
        "\n",
        "plt.subplot(2,3,3)\n",
        "plt.title(\"Repayer\")\n",
        "application_data[application_data[\"TARGET\"]==0][\"FLAG_OWN_CAR\"].value_counts().plot.pie(startangle=90,autopct=\"%.2f%%\",colors=[\"green\",\"yellow\"],\n",
        "                                                                               wedgeprops={\"linewidth\":2,\"edgecolor\":\"red\"})\n",
        "\n",
        "circ=plt.Circle((0,0),0.7,color=\"white\")\n",
        "plt.gca().add_artist(circ)\n",
        "#sns.countplot(x=\"FLAG_OWN_REALTY\",data=data[data['Type']==\"Application Data\"],palette=[\"red\"])\n",
        "plt.subplot(2,3,4)\n",
        "plt.title(\"Distribution of FLAG_OWN_REALTY \")\n",
        "application_data[\"FLAG_OWN_REALTY\"].value_counts().plot.pie(startangle=90,autopct=\"%.2f%%\",colors=[\"green\",\"yellow\"],\n",
        "                                                                               wedgeprops={\"linewidth\":2,\"edgecolor\":\"red\"})\n",
        "circ=plt.Circle((0,0),0.7,color=\"white\")\n",
        "plt.gca().add_artist(circ)\n",
        "\n",
        "plt.subplot(2,3,5)\n",
        "plt.title(\"Defaulter\")\n",
        "application_data[application_data[\"TARGET\"]==1][\"FLAG_OWN_REALTY\"].value_counts().plot.pie(startangle=90,autopct=\"%.2f%%\",colors=[\"green\",\"yellow\"],\n",
        "                                                                               wedgeprops={\"linewidth\":2,\"edgecolor\":\"red\"})\n",
        "\n",
        "circ=plt.Circle((0,0),0.7,color=\"white\")\n",
        "plt.gca().add_artist(circ)\n",
        "\n",
        "plt.subplot(2,3,6)\n",
        "plt.title(\"Replayer\")\n",
        "application_data[application_data[\"TARGET\"]==0][\"FLAG_OWN_REALTY\"].value_counts().plot.pie(startangle=90,autopct=\"%.2f%%\",colors=[\"green\",\"yellow\"],\n",
        "                                                                               wedgeprops={\"linewidth\":2,\"edgecolor\":\"red\"})\n",
        "\n",
        "circ=plt.Circle((0,0),0.7,color=\"white\")\n",
        "plt.gca().add_artist(circ)\n",
        "\n"
      ]
    },
    {
      "cell_type": "markdown",
      "metadata": {
        "id": "2OUj4s-Jzdlp"
      },
      "source": [
        "Distribution of AMT_INCOME_TOTAL,AMT_CREDIT,AMT_ANNUITY,AMT_GOODS_PRICE"
      ]
    },
    {
      "cell_type": "code",
      "execution_count": null,
      "metadata": {
        "id": "yGKRBZkwzBdZ"
      },
      "outputs": [],
      "source": [
        "# AMT_INCOME_TOTAL,AMT_CREDIT,AMT_ANNUITY,AMT_GOODS_PRICE                   \n",
        "plt.figure(figsize=(20,10))\n",
        "col=application_data[[\"AMT_INCOME_TOTAL\",\"AMT_CREDIT\",\"AMT_ANNUITY\",\"AMT_GOODS_PRICE\",\"TARGET\"]]\n",
        "sns.pairplot(col,hue=\"TARGET\",palette=[\"yellow\",\"red\"])\n",
        "plt.show\n"
      ]
    },
    {
      "cell_type": "markdown",
      "metadata": {
        "id": "tnurS1pL6_q9"
      },
      "source": [
        "Distribution of  NAME_TYPE_SUITE,NAME_INCOME_TYPE,NAME_EDUCATION_TYPE,NAME_FAMILY_STATUS,NAME_HOUSING_TYPE         "
      ]
    },
    {
      "cell_type": "code",
      "execution_count": null,
      "metadata": {
        "id": "r79bnAPjsAEj"
      },
      "outputs": [],
      "source": [
        "plt.figure(figsize=(30,30))\n",
        "data=application_data[[\"NAME_TYPE_SUITE\",\"NAME_INCOME_TYPE\",\"NAME_EDUCATION_TYPE\",\"NAME_FAMILY_STATUS\",\"NAME_HOUSING_TYPE\",\"TARGET\"]]\n",
        "k=1\n",
        "\n",
        "for i,j in enumerate(data):\n",
        "  if k<6:\n",
        "    plt.subplot(3,2,k)\n",
        "    sns.countplot(x=data[j],data=data,hue=\"TARGET\")\n",
        "    plt.xticks(rotation=0)\n",
        "    #display(j)\n",
        "    k=k+1\n"
      ]
    },
    {
      "cell_type": "markdown",
      "metadata": {
        "id": "PLMz_d0danJY"
      },
      "source": [
        "Distribution of DAYS_BIRTH,DAYS_EMPLOYED for Repayer & Defaulter  "
      ]
    },
    {
      "cell_type": "code",
      "execution_count": null,
      "metadata": {
        "id": "XSegsfOq2S6H"
      },
      "outputs": [],
      "source": [
        "fig=plt.figure(figsize=(30,20))\n",
        "data=application_data[[\"DAYS_BIRTH\",\"DAYS_EMPLOYED\",\"DAYS_REGISTRATION\",\"DAYS_ID_PUBLISH\",\"TARGET\"]]\n",
        "#sns.pairplot(data,hue=\"TARGET\",palette=[\"orange\",\"green\"])\n",
        "#application_data[application_data[\"TARGET\"]==0]\n",
        "#plt.subplot(1,3,1)\n",
        "plt.title(\"Distibution of DAYS_BIRTH and DAYS_EMPLOYED for repayer and defaulter \")\n",
        "plt.scatter(application_data[application_data[\"TARGET\"]==0][\"DAYS_BIRTH\"],\n",
        "            application_data[application_data[\"TARGET\"]==0][\"DAYS_EMPLOYED\"],color=[\"yellow\"],s=75,alpha=1,label=\"Repayer\",\n",
        "            linewidth=.8,edgecolor=\"k\")\n",
        "plt.scatter(application_data[application_data[\"TARGET\"]==1][\"DAYS_BIRTH\"],\n",
        "            application_data[application_data[\"TARGET\"]==1][\"DAYS_EMPLOYED\"],color=[\"violet\"],label=\"Defaulter\",s=75,alpha=0.2,\n",
        "            edgecolor =\"k\",linewidth=0.8)\n",
        "plt.legend(loc=\"best\",prop ={\"size\":17})\n",
        "#plt.ylim(0,10000)\n",
        "#plt.subplot(1,3,2)\n",
        "p=application_data[[\"DAYS_BIRTH\",\"DAYS_EMPLOYED\",\"TARGET\"]]\n",
        "#sns.countplot(application_data[\"DAYS_BIRTH\"],hue=application_data[\"TARGET\"],palette=[\"red\",\"green\"])\n",
        "#plt.subplot(1,3,3)\n",
        "#sns.countplot(application_data[\"DAYS_BIRTH\"],hue=application_data[\"TARGET\"],palette=[\"red\",\"green\"])\n",
        "plt.legend(loc=\"best\",prop ={\"size\":17})\n",
        "plt.xlabel(\"DAYS_BIRTH\")\n",
        "plt.ylabel(\"DAYS_EMPLOYED\")\n",
        "#display(application_data.head(10))\n"
      ]
    },
    {
      "cell_type": "markdown",
      "metadata": {
        "id": "4f_hZTcXzNj0"
      },
      "source": [
        ""
      ]
    },
    {
      "cell_type": "markdown",
      "metadata": {
        "id": "Sfy-kNeDzvhK"
      },
      "source": [
        "Distribution of DAYS_REGISTRATION,DAYS_ID_PUBLISH  for Repayer & Defaulter"
      ]
    },
    {
      "cell_type": "code",
      "execution_count": null,
      "metadata": {
        "id": "nGYAW1zczuVt"
      },
      "outputs": [],
      "source": [
        "plt.figure(figsize=(40,30))\n",
        "plt.scatter(application_data[application_data[\"TARGET\"]==0][\"DAYS_REGISTRATION\"],\n",
        "            application_data[application_data[\"TARGET\"]==0][\"DAYS_ID_PUBLISH\"],s=75,alpha=1,color=\"yellow\",label=\"Repayer\",\n",
        "            edgecolor=\"k\",linewidth=0.7)\n",
        "\n",
        "plt.scatter(application_data[application_data[\"TARGET\"]==1][\"DAYS_REGISTRATION\"],\n",
        "            application_data[application_data[\"TARGET\"]==1][\"DAYS_ID_PUBLISH\"],s=75,alpha=0.4,color=\"red\",label=\"Defaulter\",\n",
        "            edgecolor=\"k\",linewidth=0.7)\n",
        "\n",
        "plt.legend(loc=\"best\",prop={\"size\":20})\n",
        "plt.xlabel(\"DAYS_REGISTRATION\")\n",
        "plt.ylabel(\"DAYS_ID_PUBLISH\")\n",
        "plt.title(\"Distribution of DAYS_REGISTRATION,DAYS_ID_PUBLISH  for Repayer & Defaulter\")"
      ]
    },
    {
      "cell_type": "markdown",
      "metadata": {
        "id": "bm93GgBRYlB_"
      },
      "source": [
        "Distribution of FLAG_MOBIL,FLAG_EMP_PHONE,FLAG_WORK_PHONE,FLAG_CONT_MOBILE,FLAG_PHONE,FLAG_EMAIL for Repayer & Defaulter"
      ]
    },
    {
      "cell_type": "code",
      "execution_count": null,
      "metadata": {
        "id": "eK8RywOd7vjV"
      },
      "outputs": [],
      "source": [
        "plt.figure(figsize=(20,20))\n",
        "data=application_data[[\"FLAG_MOBIL\",\"FLAG_EMP_PHONE\",\"FLAG_WORK_PHONE\",\"FLAG_CONT_MOBILE\",\"FLAG_PHONE\",\"FLAG_EMAIL\",\"TARGET\"]]\n",
        "k=1\n",
        "for i,j in enumerate(data):\n",
        "  if i<6:\n",
        "    plt.subplot(2,3,k)\n",
        "    sns.countplot(x=data[j],hue=\"TARGET\",data=data)\n",
        "    k=k+1\n"
      ]
    },
    {
      "cell_type": "code",
      "execution_count": null,
      "metadata": {
        "id": "2ho5_IluCR_w"
      },
      "outputs": [],
      "source": [
        "plt.figure(figsize=(15,10))\n",
        "data=application_data[[\"REGION_POPULATION_RELATIVE\",\"TARGET\"]]\n",
        "pt=sns.violinplot(x=\"TARGET\",y=data[\"REGION_POPULATION_RELATIVE\"],data=data,palette=\"Set2\",linewidth=.7,labels=[\"Repayer\",\"Defaulter\"])\n",
        "plt.xlabel(\"TARGET\")\n",
        "#plt.ylim(1)\n",
        "#sns.swarmplot(x=data[\"TARGET\"],y=data[\"REGION_POPULATION_RELATIVE\"], color=\"k\", alpha=0.8)\n",
        "#plt.xticks(rotation=90)"
      ]
    },
    {
      "cell_type": "code",
      "execution_count": null,
      "metadata": {
        "id": "LqdpQ1ySRbKd"
      },
      "outputs": [],
      "source": [
        "#ORGANIZATION_TYPE\n",
        "plt.figure(figsize=(20,10))                \n",
        "data=application_data[[\"ORGANIZATION_TYPE\",\"TARGET\"]]\n",
        "c=pd.DataFrame(application_data[\"ORGANIZATION_TYPE\"].value_counts()).reset_index()\n",
        "#p=pd.concat(c,application_data[\"TARGET\"])\n",
        "#print(c)\n",
        "sns.pointplot(x=application_data[\"ORGANIZATION_TYPE\"].value_counts(),data=application_data,hue=\"TARGET\")\n",
        "#sns.pointplot(data=c,x=\"index\",y=\"ORGANIZATION_TYPE\")\n",
        "plt.xticks(rotation=90)\n"
      ]
    },
    {
      "cell_type": "code",
      "execution_count": null,
      "metadata": {
        "id": "nCKAaHWQeK38"
      },
      "outputs": [],
      "source": [
        "display(prev_application.columns)"
      ]
    },
    {
      "cell_type": "markdown",
      "metadata": {
        "id": "psGSP8AHPJqJ"
      },
      "source": [
        ""
      ]
    },
    {
      "cell_type": "code",
      "execution_count": null,
      "metadata": {
        "id": "9i-3aINd8dCM"
      },
      "outputs": [],
      "source": [
        "corrmat = prev_application.corr(method='spearman') \n",
        "  \n",
        "f, ax = plt.subplots(figsize =(20, 15)) \n",
        "sns.heatmap(corrmat ,annot=True,ax = ax,fmt='.2f', cmap =\"Pastel1_r\") \n",
        "\n",
        "#plt.show()\n",
        "import scipy.stats\n",
        "\n",
        "C,P=scipy.stats.spearmanr(prev_application[\"AMT_CREDIT\"],prev_application[\"DAYS_FIRST_DUE\"])\n",
        "print(C)\n",
        "print(P)\n",
        "#display(prev_application[\"DAYS_FIRST_DUE\"])\n",
        "\n"
      ]
    },
    {
      "cell_type": "markdown",
      "metadata": {
        "id": "eXcwSB7UO4xu"
      },
      "source": [
        "Application_Data correlation plot "
      ]
    },
    {
      "cell_type": "code",
      "execution_count": null,
      "metadata": {
        "id": "OeTtdwgmwGG5"
      },
      "outputs": [],
      "source": [
        "plt.figure(figsize=(40,35))\n",
        "print(application_data.shape)\n",
        "a1=pd.DataFrame(application_data.iloc[:,0:25])\n",
        "#print(a1.head(2))\n",
        "a=application_data.corr()\n",
        "f, ax = plt.subplots(figsize =(30, 20))\n",
        "sns.heatmap(a[(a>0.5) | (a<-0.4)],cmap=\"crest_r\",vmax=1,vmin=-1,annot=True) \n",
        "\n"
      ]
    },
    {
      "cell_type": "code",
      "execution_count": null,
      "metadata": {
        "id": "iwFo-AVI3_xL"
      },
      "outputs": [],
      "source": [
        "corr=application_data.corr()\n",
        "#display(corr.head(4))\n",
        "corr=corr.where(np.triu(np.ones(corr.shape),k=1).astype(bool))\n",
        "#display(corr1)\n",
        "corr=corr.stack().reset_index()\n",
        "#display(corr)\n",
        "corr.columns = [\"Var1\",\"Var2\",\"Correlation\"]\n",
        "corr.dropna(subset=[\"Correlation\"],inplace=True)\n",
        "fin_corr=corr.sort_values(by=\"Correlation\",ascending=False)\n",
        "display(fin_corr[(-0.4 >fin_corr[\"Correlation\"] ) | (fin_corr[\"Correlation\"] > 0.5)])"
      ]
    },
    {
      "cell_type": "code",
      "execution_count": null,
      "metadata": {
        "id": "RJU0HR-FpvXk"
      },
      "outputs": [],
      "source": [
        "defaulters=application_data[application_data[\"TARGET\"]==1]\n",
        "repayers=application_data[application_data[\"TARGET\"]==0]"
      ]
    },
    {
      "cell_type": "markdown",
      "metadata": {
        "id": "OGRrYE4yqKyv"
      },
      "source": [
        "Top Correlated fields for defaulters"
      ]
    },
    {
      "cell_type": "code",
      "execution_count": null,
      "metadata": {
        "id": "CglpDOg0qPNb"
      },
      "outputs": [],
      "source": [
        "corr=defaulters.corr()\n",
        "corr=corr.where(np.triu(np.ones(corr.shape),k=1).astype(bool))\n",
        "corr=corr.unstack().reset_index()\n",
        "corr.columns = [\"Var1\",\"Var2\",\"Correlation\"]\n",
        "corr.dropna(subset= [\"Correlation\"],inplace=True)\n",
        "final=corr.sort_values(ascending=False,by=\"Correlation\")\n",
        "display(final[(final[\"Correlation\"] < -0.4) | (final[\"Correlation\"] > 0.5)])"
      ]
    },
    {
      "cell_type": "markdown",
      "metadata": {
        "id": "d3iB2l-6we_h"
      },
      "source": [
        "Top Correlated fields for Repayers"
      ]
    },
    {
      "cell_type": "code",
      "execution_count": null,
      "metadata": {
        "id": "iHzDWCEvwla2"
      },
      "outputs": [],
      "source": [
        "corr=repayers.corr()\n",
        "corr=corr.where(np.triu(np.ones(corr.shape),k=1).astype(bool))\n",
        "corr= corr.unstack().reset_index()\n",
        "corr.columns = [\"Var1\",\"Var2\",\"Correlation\"]\n",
        "corr.dropna(subset=[\"Correlation\"],inplace=True)\n",
        "corr.sort_values(by=\"Correlation\",ascending=False)\n",
        "display(corr[(corr[\"Correlation\"] < -0.8) | (corr[\"Correlation\"] >0.8)])"
      ]
    }
  ],
  "metadata": {
    "colab": {
      "collapsed_sections": [],
      "name": "Untitled0.ipynb",
      "provenance": [],
      "authorship_tag": "ABX9TyP2UrfquevNx1JzCYxKUFwm",
      "include_colab_link": true
    },
    "kernelspec": {
      "display_name": "Python 3",
      "name": "python3"
    },
    "language_info": {
      "name": "python"
    }
  },
  "nbformat": 4,
  "nbformat_minor": 0
}